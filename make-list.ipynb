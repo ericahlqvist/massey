{
 "cells": [
  {
   "cell_type": "code",
   "execution_count": 1,
   "metadata": {},
   "outputs": [
    {
     "data": {
      "text/plain": [
       "3"
      ]
     },
     "execution_count": 1,
     "metadata": {},
     "output_type": "execute_result"
    }
   ],
   "source": [
    "def check_p_rank (K_cyc, p):\n",
    "    nr = 0\n",
    "    for l in K_cyc:\n",
    "        c = int(l)\n",
    "        if c%p == 0:\n",
    "            nr += 1\n",
    "    return nr\n",
    "\n",
    "check_p_rank(['5', '15', '5'], 5)"
   ]
  },
  {
   "cell_type": "code",
   "execution_count": 4,
   "metadata": {},
   "outputs": [],
   "source": [
    "file = open(\"/Users/eric/Downloads/cl8mod16.0\")\n",
    "disc_file = open(\"discriminants/p_3_cyc_9_9_disc_8_mod_16.txt\", \"w\")\n",
    "lines = file.readlines()\n",
    "discriminant = -8\n",
    "for i in range(0,len(lines)-1):\n",
    "    my_str = ''.join(map(str, lines[i]))\n",
    "    my_str = my_str[0:-1]\n",
    "    li = list(my_str.split(\"\\t\"))\n",
    "    li[-1] = list(li[-1].split(\" \"))\n",
    "    discriminant -= 16*int(li[0])\n",
    "    if len(li[-1]) > 1 and check_p_rank(li[-1], 9) == 2 and discriminant > -100000000:\n",
    "        disc_file.write(str(discriminant)+\"\\n\")\n",
    "    \n",
    "file.close()\n",
    "disc_file.close()"
   ]
  },
  {
   "cell_type": "code",
   "execution_count": null,
   "metadata": {},
   "outputs": [],
   "source": []
  }
 ],
 "metadata": {
  "kernelspec": {
   "display_name": "Python 3.8.9 64-bit",
   "language": "python",
   "name": "python3"
  },
  "language_info": {
   "codemirror_mode": {
    "name": "ipython",
    "version": 3
   },
   "file_extension": ".py",
   "mimetype": "text/x-python",
   "name": "python",
   "nbconvert_exporter": "python",
   "pygments_lexer": "ipython3",
   "version": "3.8.9"
  },
  "orig_nbformat": 4,
  "vscode": {
   "interpreter": {
    "hash": "31f2aee4e71d21fbe5cf8b01ff0e069b9275f58929596ceb00d14d90e3e16cd6"
   }
  }
 },
 "nbformat": 4,
 "nbformat_minor": 2
}
