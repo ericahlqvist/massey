{
 "cells": [
  {
   "cell_type": "code",
   "execution_count": 1,
   "metadata": {},
   "outputs": [],
   "source": [
    "import subprocess, threading\n",
    "\n",
    "class Command(object):\n",
    "    def __init__(self, cmd):\n",
    "        self.cmd = cmd\n",
    "        self.process = None\n",
    "\n",
    "    def run(self, timeout):\n",
    "        def target():\n",
    "            \n",
    "            self.process = subprocess.Popen(self.cmd, shell=True)\n",
    "            self.process.communicate()\n",
    "            #print('Thread finished')\n",
    "\n",
    "        thread = threading.Thread(target=target)\n",
    "        thread.start()\n",
    "\n",
    "        thread.join(timeout)\n",
    "        if thread.is_alive():\n",
    "            #print('Terminating process')\n",
    "            self.process.terminate()\n",
    "            thread.join()\n",
    "            return self.process.returncode\n",
    "\n"
   ]
  },
  {
   "cell_type": "code",
   "execution_count": null,
   "metadata": {},
   "outputs": [],
   "source": [
    "p = \"3\" # A prime > 2\n",
    "Dmod = \"3\" # 3, 7, 4, 8\n",
    "mod = \"\"\n",
    "if (Dmod == \"3\" or Dmod == \"7\"):\n",
    "    mod = \"8\"\n",
    "else:\n",
    "    mod = \"16\"\n",
    "\n",
    "open_file = \"\"\n",
    "\n",
    "if p == \"3\":\n",
    "    open_file = \"p_\"+p+\"_cyc_9_9_disc_\"+Dmod+\"_mod_\"+mod+\".txt\"\n",
    "else:\n",
    "    open_file = \"p_\"+p+\"_disc_\"+Dmod+\"_mod_\"+mod+\".txt\"\n",
    "\n",
    "file = open(\"discriminants/\"+open_file)\n",
    "lines = file.readlines()\n",
    "for line in lines:\n",
    "    my_str = ''.join(map(str, line))\n",
    "    command = Command(\"main-sta \"+p+\" \"+my_str)\n",
    "    code = command.run(timeout=300)\n",
    "    \n",
    "    if code == -15:\n",
    "        res_file = open(\"output/\"+p+\"_\"+Dmod+\"mod\"+mod+\".txt\", \"a\")\n",
    "        print(my_str)\n",
    "        res_file.write(\"{\\\"p\\\": \\\"\"+p+\"\\\", \\\"D\\\": \\\"\"+my_str.strip()+\"\\\", \\\"Z-rk\\\": \\\"-\\\", \\\"K-cyc\\\": \\\"-\\\", \\\"Lx-cyc\\\": \\\"-\\\", \\\"Ly-cyc\\\": \\\"-\\\", \\\"ZM\\\": \\\"-\\\"},\\n\")\n",
    "    \n",
    "file.close()"
   ]
  }
 ],
 "metadata": {
  "kernelspec": {
   "display_name": "Python 3.8.9 64-bit",
   "language": "python",
   "name": "python3"
  },
  "language_info": {
   "codemirror_mode": {
    "name": "ipython",
    "version": 3
   },
   "file_extension": ".py",
   "mimetype": "text/x-python",
   "name": "python",
   "nbconvert_exporter": "python",
   "pygments_lexer": "ipython3",
   "version": "3.8.9"
  },
  "orig_nbformat": 4,
  "vscode": {
   "interpreter": {
    "hash": "31f2aee4e71d21fbe5cf8b01ff0e069b9275f58929596ceb00d14d90e3e16cd6"
   }
  }
 },
 "nbformat": 4,
 "nbformat_minor": 2
}
