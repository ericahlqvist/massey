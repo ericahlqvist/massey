{
 "cells": [
  {
   "cell_type": "code",
   "execution_count": 1,
   "metadata": {},
   "outputs": [],
   "source": [
    "import pandas as pd"
   ]
  },
  {
   "cell_type": "code",
   "execution_count": 27,
   "metadata": {},
   "outputs": [
    {
     "data": {
      "text/html": [
       "<div>\n",
       "<style scoped>\n",
       "    .dataframe tbody tr th:only-of-type {\n",
       "        vertical-align: middle;\n",
       "    }\n",
       "\n",
       "    .dataframe tbody tr th {\n",
       "        vertical-align: top;\n",
       "    }\n",
       "\n",
       "    .dataframe thead th {\n",
       "        text-align: right;\n",
       "    }\n",
       "</style>\n",
       "<table border=\"1\" class=\"dataframe\">\n",
       "  <thead>\n",
       "    <tr style=\"text-align: right;\">\n",
       "      <th></th>\n",
       "      <th>p</th>\n",
       "      <th>D</th>\n",
       "      <th>K-cyc</th>\n",
       "      <th>Lx-cyc</th>\n",
       "      <th>Ly-cyc</th>\n",
       "      <th>Z-rk</th>\n",
       "      <th>ZM</th>\n",
       "    </tr>\n",
       "  </thead>\n",
       "  <tbody>\n",
       "    <tr>\n",
       "      <th>42</th>\n",
       "      <td>3</td>\n",
       "      <td>-3826859</td>\n",
       "      <td>[63, 9]</td>\n",
       "      <td>[126, 18, 9, 3]</td>\n",
       "      <td>[189, 9, 3, 3]</td>\n",
       "      <td>0</td>\n",
       "      <td>[[0, 0], [0, 0]]</td>\n",
       "    </tr>\n",
       "    <tr>\n",
       "      <th>131</th>\n",
       "      <td>3</td>\n",
       "      <td>-8187139</td>\n",
       "      <td>[45, 9]</td>\n",
       "      <td>[135, 9, 3, 3]</td>\n",
       "      <td>[90, 18, 9, 3]</td>\n",
       "      <td>0</td>\n",
       "      <td>[[0, 0], [0, 0]]</td>\n",
       "    </tr>\n",
       "    <tr>\n",
       "      <th>210</th>\n",
       "      <td>3</td>\n",
       "      <td>-13014563</td>\n",
       "      <td>[90, 9]</td>\n",
       "      <td>[90, 9, 9, 3]</td>\n",
       "      <td>[270, 9, 3, 3]</td>\n",
       "      <td>0</td>\n",
       "      <td>[[0, 0], [0, 0]]</td>\n",
       "    </tr>\n",
       "  </tbody>\n",
       "</table>\n",
       "</div>"
      ],
      "text/plain": [
       "     p         D    K-cyc           Lx-cyc          Ly-cyc Z-rk  \\\n",
       "42   3  -3826859  [63, 9]  [126, 18, 9, 3]  [189, 9, 3, 3]    0   \n",
       "131  3  -8187139  [45, 9]   [135, 9, 3, 3]  [90, 18, 9, 3]    0   \n",
       "210  3 -13014563  [90, 9]    [90, 9, 9, 3]  [270, 9, 3, 3]    0   \n",
       "\n",
       "                   ZM  \n",
       "42   [[0, 0], [0, 0]]  \n",
       "131  [[0, 0], [0, 0]]  \n",
       "210  [[0, 0], [0, 0]]  "
      ]
     },
     "execution_count": 27,
     "metadata": {},
     "output_type": "execute_result"
    }
   ],
   "source": [
    "data = pd.read_json(\"./output/3_3mod8.txt\")\n",
    "data[data[\"Z-rk\"]==\"0\"]"
   ]
  },
  {
   "cell_type": "code",
   "execution_count": null,
   "metadata": {},
   "outputs": [],
   "source": []
  },
  {
   "cell_type": "code",
   "execution_count": null,
   "metadata": {},
   "outputs": [],
   "source": []
  }
 ],
 "metadata": {
  "kernelspec": {
   "display_name": "Python 3.9.7 ('base')",
   "language": "python",
   "name": "python3"
  },
  "language_info": {
   "codemirror_mode": {
    "name": "ipython",
    "version": 3
   },
   "file_extension": ".py",
   "mimetype": "text/x-python",
   "name": "python",
   "nbconvert_exporter": "python",
   "pygments_lexer": "ipython3",
   "version": "3.9.7"
  },
  "orig_nbformat": 4,
  "vscode": {
   "interpreter": {
    "hash": "3a567429a6b80b783e0f73ec3c891328342cc4f4149ea9f93b52d73a2399b206"
   }
  }
 },
 "nbformat": 4,
 "nbformat_minor": 2
}
